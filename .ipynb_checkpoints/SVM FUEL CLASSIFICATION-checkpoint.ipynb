{
 "cells": [
  {
   "cell_type": "markdown",
   "id": "af12a71a",
   "metadata": {},
   "source": [
    "<img src=\"https://driving-tests.org/wp-content/uploads/2013/12/gas-pump.jpg\" style=\"height: 400px; width: auto;\"/>\n"
   ]
  },
  {
   "cell_type": "markdown",
   "id": "d8ef7afb",
   "metadata": {},
   "source": [
    "**1. Importing Required Libraries**"
   ]
  },
  {
   "cell_type": "code",
   "execution_count": 18,
   "id": "ef67ee5a",
   "metadata": {},
   "outputs": [],
   "source": [
    "from sklearn import svm\n",
    "from sklearn.model_selection import train_test_split\n",
    "from sklearn.metrics import f1_score\n",
    "from sklearn.preprocessing import LabelEncoder\n",
    "import pandas as pd\n"
   ]
  },
  {
   "cell_type": "markdown",
   "id": "a681320b",
   "metadata": {},
   "source": [
    "**2. Loading Dataset**"
   ]
  },
  {
   "cell_type": "code",
   "execution_count": 2,
   "id": "7a815000",
   "metadata": {},
   "outputs": [],
   "source": [
    "df = pd.read_csv('FuelConsumption.csv')\n"
   ]
  },
  {
   "cell_type": "markdown",
   "id": "bd526967",
   "metadata": {},
   "source": [
    "**3. Exploring Dataset**"
   ]
  },
  {
   "cell_type": "code",
   "execution_count": 19,
   "id": "b662326e",
   "metadata": {},
   "outputs": [
    {
     "data": {
      "text/plain": [
       "Index(['MODELYEAR', 'MAKE', 'MODEL', 'VEHICLECLASS', 'ENGINESIZE', 'CYLINDERS',\n",
       "       'TRANSMISSION', 'FUELTYPE', 'FUELCONSUMPTION_CITY',\n",
       "       'FUELCONSUMPTION_HWY', 'FUELCONSUMPTION_COMB',\n",
       "       'FUELCONSUMPTION_COMB_MPG', 'CO2EMISSIONS'],\n",
       "      dtype='object')"
      ]
     },
     "execution_count": 19,
     "metadata": {},
     "output_type": "execute_result"
    }
   ],
   "source": [
    "# display column nmaes in dataset\n",
    "df.columns"
   ]
  },
  {
   "cell_type": "code",
   "execution_count": 20,
   "id": "f11d8b0c",
   "metadata": {},
   "outputs": [
    {
     "name": "stdout",
     "output_type": "stream",
     "text": [
      "<class 'pandas.core.frame.DataFrame'>\n",
      "RangeIndex: 1067 entries, 0 to 1066\n",
      "Data columns (total 13 columns):\n",
      " #   Column                    Non-Null Count  Dtype  \n",
      "---  ------                    --------------  -----  \n",
      " 0   MODELYEAR                 1067 non-null   int64  \n",
      " 1   MAKE                      1067 non-null   object \n",
      " 2   MODEL                     1067 non-null   object \n",
      " 3   VEHICLECLASS              1067 non-null   object \n",
      " 4   ENGINESIZE                1067 non-null   float64\n",
      " 5   CYLINDERS                 1067 non-null   int64  \n",
      " 6   TRANSMISSION              1067 non-null   object \n",
      " 7   FUELTYPE                  1067 non-null   int64  \n",
      " 8   FUELCONSUMPTION_CITY      1067 non-null   float64\n",
      " 9   FUELCONSUMPTION_HWY       1067 non-null   float64\n",
      " 10  FUELCONSUMPTION_COMB      1067 non-null   float64\n",
      " 11  FUELCONSUMPTION_COMB_MPG  1067 non-null   int64  \n",
      " 12  CO2EMISSIONS              1067 non-null   int64  \n",
      "dtypes: float64(4), int64(5), object(4)\n",
      "memory usage: 108.5+ KB\n"
     ]
    }
   ],
   "source": [
    "df.info()"
   ]
  },
  {
   "cell_type": "markdown",
   "id": "e7ec3f73",
   "metadata": {},
   "source": [
    "**4. Preparing Dataset for feeding to Model**"
   ]
  },
  {
   "cell_type": "code",
   "execution_count": 21,
   "id": "959e719c",
   "metadata": {},
   "outputs": [],
   "source": [
    "# One-hot encode categorical columns\n",
    "df_encoded = pd.get_dummies(df, columns=['MAKE', 'MODEL', 'VEHICLECLASS', 'TRANSMISSION'])\n",
    "\n",
    "# Assuming 'FUELTYPE' is the target column\n",
    "label_encoder = LabelEncoder()\n",
    "df_encoded['FUELTYPE'] = label_encoder.fit_transform(df_encoded['FUELTYPE'])\n",
    "\n",
    "# Selecting features and target variable\n",
    "features = df_encoded.drop(['FUELTYPE'], axis=1)\n",
    "target = df_encoded['FUELTYPE']"
   ]
  },
  {
   "cell_type": "markdown",
   "id": "93eb8583",
   "metadata": {},
   "source": [
    "**5. Splitting Dataset into Training and Testing**"
   ]
  },
  {
   "cell_type": "code",
   "execution_count": null,
   "id": "e78a8a3b",
   "metadata": {},
   "outputs": [],
   "source": [
    "# Splitting data into train and test sets\n",
    "X_train, X_test, y_train, y_test = train_test_split(features, target, test_size=0.2, random_state=42)\n",
    "\n"
   ]
  },
  {
   "cell_type": "code",
   "execution_count": 23,
   "id": "ae9cceae",
   "metadata": {},
   "outputs": [
    {
     "name": "stdout",
     "output_type": "stream",
     "text": [
      "<class 'pandas.core.frame.DataFrame'>\n",
      "Index: 853 entries, 333 to 860\n",
      "Columns: 748 entries, MODELYEAR to TRANSMISSION_M7\n",
      "dtypes: bool(740), float64(4), int64(4)\n",
      "memory usage: 676.4 KB\n"
     ]
    }
   ],
   "source": [
    "X_train.info()"
   ]
  },
  {
   "cell_type": "code",
   "execution_count": 25,
   "id": "ce8348a5",
   "metadata": {},
   "outputs": [
    {
     "name": "stdout",
     "output_type": "stream",
     "text": [
      "<class 'pandas.core.series.Series'>\n",
      "Index: 214 entries, 732 to 941\n",
      "Series name: FUELTYPE\n",
      "Non-Null Count  Dtype\n",
      "--------------  -----\n",
      "214 non-null    int64\n",
      "dtypes: int64(1)\n",
      "memory usage: 3.3 KB\n"
     ]
    }
   ],
   "source": [
    "y_test.info()"
   ]
  },
  {
   "cell_type": "markdown",
   "id": "a4d102cb",
   "metadata": {},
   "source": [
    "**6. Initialize classifiers with different kernels**"
   ]
  },
  {
   "cell_type": "code",
   "execution_count": 26,
   "id": "f8fee45b",
   "metadata": {},
   "outputs": [],
   "source": [
    "# \n",
    "kernels = ['rbf', 'sigmoid', 'poly', 'linear']\n",
    "f1_scores = {}"
   ]
  },
  {
   "cell_type": "markdown",
   "id": "769413f5",
   "metadata": {},
   "source": [
    "**7. Making Predictions on different Kernals**"
   ]
  },
  {
   "cell_type": "code",
   "execution_count": 27,
   "id": "465cfaab",
   "metadata": {},
   "outputs": [],
   "source": [
    "for kernel in kernels:\n",
    "    clf = svm.SVC(kernel=kernel)\n",
    "    clf.fit(X_train, y_train)\n",
    "    y_pred = clf.predict(X_test)\n",
    "    f1 = f1_score(y_test, y_pred, average='weighted')\n",
    "    f1_scores[kernel] = f1"
   ]
  },
  {
   "cell_type": "markdown",
   "id": "cff19854",
   "metadata": {},
   "source": [
    "**8. Display F1 scores for each kernel**"
   ]
  },
  {
   "cell_type": "code",
   "execution_count": 28,
   "id": "8abdfe90",
   "metadata": {},
   "outputs": [
    {
     "name": "stdout",
     "output_type": "stream",
     "text": [
      "F1 Scores:\n",
      "Rbf Kernel: 0.3333333333333333\n",
      "Sigmoid Kernel: 0.3333333333333333\n",
      "Poly Kernel: 0.33125\n",
      "Linear Kernel: 0.9532710280373832\n"
     ]
    }
   ],
   "source": [
    "print(\"F1 Scores:\")\n",
    "for kernel, score in f1_scores.items():\n",
    "    print(f\"{kernel.capitalize()} Kernel: {score}\")\n"
   ]
  },
  {
   "cell_type": "markdown",
   "id": "64fd85df",
   "metadata": {},
   "source": [
    "## Kernel Selection for SVM Classifier\n",
    "\n",
    "### Overview\n",
    "\n",
    "The SVM classifier was trained on the dataset to predict fuel types using different kernels: RBF, Sigmoid, Polynomial, and Linear. The F1 scores were calculated to evaluate the performance of each kernel.\n",
    "\n",
    "### Results\n",
    "\n",
    "- **RBF Kernel**: F1 Score = 0.3333\n",
    "- **Sigmoid Kernel**: F1 Score = 0.3333\n",
    "- **Poly Kernel**: F1 Score = 0.3312\n",
    "- **Linear Kernel**: F1 Score = 0.9532\n",
    "\n",
    "### Conclusion\n",
    "\n",
    "The F1 scores demonstrate the performance of the SVM classifier with different kernels. In this scenario, the Linear Kernel vastly outperformed the others, achieving an F1 score of 0.9533. This significant improvement suggests that a linear decision boundary is better suited for predicting fuel types based on the dataset's features. The other kernels, RBF, Sigmoid, and Polynomial, yielded substantially lower F1 scores, indicating their inadequacy in capturing the underlying patterns in the data effectively."
   ]
  },
  {
   "cell_type": "code",
   "execution_count": null,
   "id": "edb4902b",
   "metadata": {},
   "outputs": [],
   "source": []
  }
 ],
 "metadata": {
  "kernelspec": {
   "display_name": "Python 3 (ipykernel)",
   "language": "python",
   "name": "python3"
  },
  "language_info": {
   "codemirror_mode": {
    "name": "ipython",
    "version": 3
   },
   "file_extension": ".py",
   "mimetype": "text/x-python",
   "name": "python",
   "nbconvert_exporter": "python",
   "pygments_lexer": "ipython3",
   "version": "3.11.5"
  }
 },
 "nbformat": 4,
 "nbformat_minor": 5
}
